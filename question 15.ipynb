{
 "cells": [
  {
   "cell_type": "markdown",
   "id": "92c24ff2",
   "metadata": {},
   "source": [
    "<aside>\n",
    "💡 **Question 1**\n",
    "\n",
    "Given an array **arr[ ]** of size **N** having elements, the task is to find the next greater element for each element of the array in order of their appearance in the array.Next greater element of an element in the array is the nearest element on the right which is greater than the current element.If there does not exist next greater of current element, then next greater element for current element is -1. For example, next greater of the last element is always -1.\n",
    "\n",
    "**Example 1:**\n",
    "\n",
    "</aside>Input:\n",
    "N = 4, arr[] = [1 3 2 4]\n",
    "Output:\n",
    "3 4 4 -1\n",
    "Explanation:\n",
    "In the array, the next larger element\n",
    "to 1 is 3 , 3 is 4 , 2 is 4 and for 4 ?\n",
    "since it doesn't exist, it is -1.\n",
    "Input:\n",
    "N = 5, arr[] [6 8 0 1 3]\n",
    "Output:\n",
    "8 -1 1 3 -1\n",
    "Explanation:\n",
    "In the array, the next larger element to\n",
    "6 is 8, for 8 there is no larger elements\n",
    "hence it is -1, for 0 it is 1 , for 1 it\n",
    "is 3 and then for 3 there is no larger\n",
    "element on right and hence -1."
   ]
  },
  {
   "cell_type": "code",
   "execution_count": 1,
   "id": "f1a94291",
   "metadata": {},
   "outputs": [
    {
     "name": "stdout",
     "output_type": "stream",
     "text": [
      "11 -- 13\n",
      "13 -- 21\n",
      "21 -- -1\n",
      "3 -- -1\n"
     ]
    }
   ],
   "source": [
    "def printNGE(arr):\n",
    "\n",
    "\tfor i in range(0, len(arr), 1):\n",
    "\n",
    "\t\tnext = -1\n",
    "\t\tfor j in range(i+1, len(arr), 1):\n",
    "\t\t\tif arr[i] < arr[j]:\n",
    "\t\t\t\tnext = arr[j]\n",
    "\t\t\t\tbreak\n",
    "\n",
    "\t\tprint(str(arr[i]) + \" -- \" + str(next))\n",
    "\n",
    "\n",
    "\n",
    "arr = [11, 13, 21, 3]\n",
    "printNGE(arr)"
   ]
  },
  {
   "cell_type": "markdown",
   "id": "2efd8c0f",
   "metadata": {},
   "source": [
    "<aside>\n",
    "💡 **Question 2**\n",
    "\n",
    "Given an array **a** of integers of length **n**, find the nearest smaller number for every element such that the smaller element is on left side.If no small element present on the left print -1.\n",
    "\n",
    "**Example 1:**\n",
    "\n",
    "</aside>Input: n = 3\n",
    "a = {1, 6, 2}\n",
    "Output: -1 1 1\n",
    "Explaination: There is no number at the\n",
    "left of 1. Smaller number than 6 and 2 is 1.Input: n = 6\n",
    "a = {1, 5, 0, 3, 4, 5}\n",
    "Output: -1 1 -1 0 3 4\n",
    "Explaination: Upto 3 it is easy to see\n",
    "the smaller numbers. But for 4 the smaller\n",
    "numbers are 1, 0 and 3. But among them 3\n",
    "is closest. Similary for 5 it is 4."
   ]
  },
  {
   "cell_type": "code",
   "execution_count": 2,
   "id": "08d0f390",
   "metadata": {},
   "outputs": [
    {
     "name": "stdout",
     "output_type": "stream",
     "text": [
      "_, 1 , _, 0 , 2 , "
     ]
    }
   ],
   "source": [
    "def printPrevSmaller(arr, n):\n",
    "\n",
    "\n",
    "\tprint(\"_, \", end=\"\")\n",
    "\n",
    "\tfor i in range(1, n ):\n",
    "\t\n",
    "\n",
    "\t\tfor j in range(i-1 ,-2 ,-1):\n",
    "\t\t\n",
    "\t\t\tif (arr[j] < arr[i]):\n",
    "\t\t\t\n",
    "\t\t\t\tprint(arr[j] ,\", \",\n",
    "\t\t\t\t\t\t\tend=\"\")\n",
    "\t\t\t\tbreak\n",
    "\n",
    "\n",
    "\t\tif (j == -1):\n",
    "\t\t\tprint(\"_, \", end=\"\")\n",
    "\n",
    "arr = [1, 3, 0, 2, 5]\n",
    "n = len(arr)\n",
    "printPrevSmaller(arr, n)"
   ]
  },
  {
   "cell_type": "markdown",
   "id": "3679a5d3",
   "metadata": {},
   "source": [
    "<aside>\n",
    "💡 **Question 3**\n",
    "\n",
    "Implement a Stack using two queues **q1** and **q2**.\n",
    "\n",
    "**Example 1:**\n",
    "\n",
    "</aside>Input:\n",
    "push(2)\n",
    "push(3)\n",
    "pop()\n",
    "push(4)\n",
    "pop()\n",
    "Output:3 4\n",
    "Explanation:\n",
    "push(2) the stack will be {2}\n",
    "push(3) the stack will be {2 3}\n",
    "pop()   poped element will be 3 the\n",
    "        stack will be {2}\n",
    "push(4) the stack will be {2 4}\n",
    "pop()   poped element will be 4\n",
    "Input:\n",
    "push(2)\n",
    "pop()\n",
    "pop()\n",
    "push(3)\n",
    "Output:2 -1"
   ]
  },
  {
   "cell_type": "markdown",
   "id": "c957a53d",
   "metadata": {},
   "source": [
    "<aside>\n",
    "💡 **Question 4**\n",
    "\n",
    "You are given a stack **St**. You have to reverse the stack using recursion.\n",
    "\n",
    "**Example 1**\n",
    "\n",
    "</aside>Input:St = {3,2,1,7,6}\n",
    "Output:{6,7,1,2,3}Input:St = {4,3,9,6}\n",
    "Output:{6,9,3,4}"
   ]
  },
  {
   "cell_type": "markdown",
   "id": "c7445e24",
   "metadata": {},
   "source": [
    "<aside>\n",
    "💡 **Question 5**\n",
    "\n",
    "You are given a string **S**, the task is to reverse the string using stack.\n",
    "\n",
    "**Example 1:**\n",
    "\n",
    "</aside>Input: S=\"GeeksforGeeks\"\n",
    "Output: skeeGrofskeeG"
   ]
  },
  {
   "cell_type": "markdown",
   "id": "20bb07da",
   "metadata": {},
   "source": [
    "<aside>\n",
    "💡 **Question 6**\n",
    "\n",
    "Given string **S** representing a postfix expression, the task is to evaluate the expression and find the final value. Operators will only include the basic arithmetic operators like ***, /, + and -**.\n",
    "\n",
    "**Example 1:**\n",
    "\n",
    "</aside>Input: S = \"231*+9-\"\n",
    "Output: -4\n",
    "Explanation:\n",
    "After solving the given expression,\n",
    "we have -4 as result.\n",
    "Input: S = \"123+*8-\"\n",
    "Output: -3\n",
    "Explanation:\n",
    "After solving the given postfix\n",
    "expression, we have -3 as result."
   ]
  },
  {
   "cell_type": "markdown",
   "id": "dc403037",
   "metadata": {},
   "source": [
    "<aside>\n",
    "💡 **Question 7**\n",
    "\n",
    "Design a stack that supports push, pop, top, and retrieving the minimum element in constant time.\n",
    "\n",
    "Implement the `MinStack` class:\n",
    "\n",
    "- `MinStack()` initializes the stack object.\n",
    "- `void push(int val)` pushes the element `val` onto the stack.\n",
    "- `void pop()` removes the element on the top of the stack.\n",
    "- `int top()` gets the top element of the stack.\n",
    "- `int getMin()` retrieves the minimum element in the stack.\n",
    "\n",
    "You must implement a solution with `O(1)` time complexity for each function.\n",
    "\n",
    "**Example 1:**\n",
    "\n",
    "</aside>Input\n",
    "[\"MinStack\",\"push\",\"push\",\"push\",\"getMin\",\"pop\",\"top\",\"getMin\"]\n",
    "[[],[-2],[0],[-3],[],[],[],[]]\n",
    "\n",
    "Output\n",
    "[null,null,null,null,-3,null,0,-2]\n",
    "\n",
    "Explanation\n",
    "MinStack minStack = new MinStack();\n",
    "minStack.push(-2);\n",
    "minStack.push(0);\n",
    "minStack.push(-3);\n",
    "minStack.getMin(); // return -3\n",
    "minStack.pop();\n",
    "minStack.top();    // return 0\n",
    "minStack.getMin(); // return -2"
   ]
  },
  {
   "cell_type": "code",
   "execution_count": null,
   "id": "372c282c",
   "metadata": {},
   "outputs": [],
   "source": [
    "class MinStack:\n",
    "    def __init__(self):\n",
    "        self.stk1 = []\n",
    "        self.stk2 = [inf]\n",
    "\n",
    "    def push(self, val: int) -> None:\n",
    "        self.stk1.append(val)\n",
    "        self.stk2.append(min(val, self.stk2[-1]))\n",
    "\n",
    "    def pop(self) -> None:\n",
    "        self.stk1.pop()\n",
    "        self.stk2.pop()\n",
    "\n",
    "    def top(self) -> int:\n",
    "        return self.stk1[-1]\n",
    "\n",
    "    def getMin(self) -> int:\n",
    "        return self.stk2[-1]"
   ]
  },
  {
   "cell_type": "markdown",
   "id": "6c096802",
   "metadata": {},
   "source": [
    "<aside>\n",
    "💡 **Question 8**\n",
    "\n",
    "Given `n` non-negative integers representing an elevation map where the width of each bar is `1`, compute how much water it can trap after raining.\n",
    "\n",
    "**Example 1:**\n",
    "\n",
    "</aside>Input: height = [0,1,0,2,1,0,1,3,2,1,2,1]\n",
    "Output: 6\n",
    "Explanation: The above elevation map (black section) is represented by array [0,1,0,2,1,0,1,3,2,1,2,1]. In this case, 6 units of rain water (blue section) are being trapped.\n",
    "Input: height = [4,2,0,3,2,5]\n",
    "Output: 9"
   ]
  },
  {
   "cell_type": "code",
   "execution_count": 3,
   "id": "59bf668a",
   "metadata": {},
   "outputs": [],
   "source": [
    "class Solution:\n",
    "    def trap(self, height):\n",
    "        \"\"\"\n",
    "        :type height: List[int]\n",
    "        :rtype: int\n",
    "        \"\"\"\n",
    "        length = len(height)\n",
    "        if length <= 2:\n",
    "            return 0\n",
    "        water, leftmax, rightmax, left, right = 0, 0, 0, 0, length - 1\n",
    "\n",
    "        while left < right:\n",
    "            if height[left] > leftmax:\n",
    "                leftmax = height[left]\n",
    "            if height[right] > rightmax:\n",
    "                rightmax = height[right]\n",
    "            if leftmax <= rightmax:\n",
    "                water += leftmax - height[left]\n",
    "                left += 1\n",
    "            elif rightmax < leftmax:\n",
    "                water += rightmax - height[right]\n",
    "                right -= 1\n",
    "        return water"
   ]
  },
  {
   "cell_type": "code",
   "execution_count": null,
   "id": "ea26231e",
   "metadata": {},
   "outputs": [],
   "source": []
  }
 ],
 "metadata": {
  "kernelspec": {
   "display_name": "Python 3 (ipykernel)",
   "language": "python",
   "name": "python3"
  },
  "language_info": {
   "codemirror_mode": {
    "name": "ipython",
    "version": 3
   },
   "file_extension": ".py",
   "mimetype": "text/x-python",
   "name": "python",
   "nbconvert_exporter": "python",
   "pygments_lexer": "ipython3",
   "version": "3.9.7"
  }
 },
 "nbformat": 4,
 "nbformat_minor": 5
}
